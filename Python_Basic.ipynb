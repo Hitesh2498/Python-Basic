{
 "cells": [
  {
   "cell_type": "markdown",
   "metadata": {},
   "source": [
    "### 1. Module and pip"
   ]
  },
  {
   "cell_type": "markdown",
   "metadata": {},
   "source": [
    "Module :-  codes that are written by professionals ,        libraries\n",
    "\n",
    "pip :- using pip we can import those modules "
   ]
  },
  {
   "cell_type": "code",
   "execution_count": 1,
   "metadata": {},
   "outputs": [],
   "source": [
    "import pandas as pd                         # type: ignore\n",
    "\n",
    "# pandas is package name\n",
    "# pd is alias , rather then using pandas , we use pd because we just gave a short name for the package"
   ]
  },
  {
   "cell_type": "markdown",
   "metadata": {},
   "source": [
    "### 2. Variable "
   ]
  },
  {
   "cell_type": "markdown",
   "metadata": {},
   "source": [
    "Variables are containers that store information that can be manipulated and referenced later by the programmer within the code"
   ]
  },
  {
   "cell_type": "markdown",
   "metadata": {},
   "source": [
    "In python, it is not needed to declare variable type"
   ]
  },
  {
   "cell_type": "code",
   "execution_count": 3,
   "metadata": {},
   "outputs": [],
   "source": [
    "name = \"IRONMAN\"   #type str\n",
    "age = 20            #type int\n",
    "passed = True       #type bool"
   ]
  },
  {
   "cell_type": "code",
   "execution_count": 5,
   "metadata": {},
   "outputs": [
    {
     "data": {
      "text/plain": [
       "int"
      ]
     },
     "execution_count": 5,
     "metadata": {},
     "output_type": "execute_result"
    }
   ],
   "source": [
    "type(age) # data type"
   ]
  },
  {
   "cell_type": "markdown",
   "metadata": {},
   "source": [
    "Scope of variables\n",
    "\n",
    "1. can be created in a function that is local variable\n",
    "2. can be global variable and can be used anywhere in the code"
   ]
  },
  {
   "cell_type": "code",
   "execution_count": 4,
   "metadata": {},
   "outputs": [
    {
     "name": "stdout",
     "output_type": "stream",
     "text": [
      "HIPotatoLichi\n"
     ]
    }
   ],
   "source": [
    "a = \"HI\"   # global variable\n",
    "\n",
    "def foods():               # function fun_name():\n",
    "    vegetable = \"Potato\"   # local variable\n",
    "    fruit = \"Lichi\"        # local variable\n",
    "    print(a + vegetable + fruit)\n",
    " \n",
    "foods()                    # function calling"
   ]
  },
  {
   "cell_type": "markdown",
   "metadata": {},
   "source": [
    "### 3. Data Types"
   ]
  },
  {
   "cell_type": "markdown",
   "metadata": {},
   "source": [
    "Data types tells the type of value a variable can hold "
   ]
  },
  {
   "cell_type": "code",
   "execution_count": 1,
   "metadata": {},
   "outputs": [],
   "source": [
    "# numeric data \n",
    "int = 1 , 6, 9\n",
    "float = 5.6, 5.7\n",
    "\n",
    "# text data \n",
    "str = \"Hello\"\n",
    "\n",
    "# Boolean data \n",
    "bool = True, False"
   ]
  },
  {
   "cell_type": "markdown",
   "metadata": {},
   "source": [
    "Sequenced Data"
   ]
  },
  {
   "cell_type": "code",
   "execution_count": 8,
   "metadata": {},
   "outputs": [
    {
     "data": {
      "text/plain": [
       "[8, 4, 5.2, ['apple', 'banana']]"
      ]
     },
     "execution_count": 8,
     "metadata": {},
     "output_type": "execute_result"
    }
   ],
   "source": [
    "# List\n",
    "# list is an ordered collection of data with elements separated by comma and enclosed within square brackets\n",
    "# list are mutable (Modified) \n",
    "\n",
    "list = [8, 4, 5.2, [\"apple\", \"banana\"]]\n",
    "list"
   ]
  },
  {
   "cell_type": "code",
   "execution_count": 9,
   "metadata": {},
   "outputs": [
    {
     "data": {
      "text/plain": [
       "(('parrot', 'sparrow'), ('Lion', 'Tiger'))"
      ]
     },
     "execution_count": 9,
     "metadata": {},
     "output_type": "execute_result"
    }
   ],
   "source": [
    "# tuple\n",
    "# tuple is ordered collection of data with elements separated by a comma and enclosed within parentheses\n",
    "# Tuples are immutable(cannot be modified)\n",
    "\n",
    "tuple = ((\"parrot\", \"sparrow\"), (\"Lion\", \"Tiger\"))\n",
    "tuple"
   ]
  },
  {
   "cell_type": "code",
   "execution_count": 12,
   "metadata": {},
   "outputs": [
    {
     "name": "stdout",
     "output_type": "stream",
     "text": [
      "1\n",
      "3\n",
      "5\n",
      "7\n",
      "9\n"
     ]
    }
   ],
   "source": [
    "# range \n",
    "# return a sequence of numbers as specified by user , if not it starts from 0 and incremented by 1\n",
    "# range(start, end, increment by)\n",
    "sequence = range(1,10,2)\n",
    "\n",
    "for i in sequence:\n",
    "    print(i)"
   ]
  },
  {
   "cell_type": "markdown",
   "metadata": {},
   "source": [
    "Mapped data "
   ]
  },
  {
   "cell_type": "code",
   "execution_count": 2,
   "metadata": {},
   "outputs": [
    {
     "data": {
      "text/plain": [
       "{'name': 'Hitesh', 'age': '22'}"
      ]
     },
     "execution_count": 2,
     "metadata": {},
     "output_type": "execute_result"
    }
   ],
   "source": [
    "# dictionary\n",
    "# dictionary is an collection of data containing a key : value pairs enclosed in curly brackets\n",
    "\n",
    "dictionary = {\"name\" : \"Hitesh\", \"age\" : \"22\"}\n",
    "dictionary"
   ]
  },
  {
   "cell_type": "markdown",
   "metadata": {},
   "source": [
    "### 4. User Input"
   ]
  },
  {
   "cell_type": "code",
   "execution_count": 4,
   "metadata": {},
   "outputs": [
    {
     "name": "stdout",
     "output_type": "stream",
     "text": [
      "enter your name 5\n"
     ]
    }
   ],
   "source": [
    "a = input((\"Enter your name\"))\n",
    "print(\"enter your name\", a )"
   ]
  },
  {
   "cell_type": "markdown",
   "metadata": {},
   "source": [
    "### 5. Strings"
   ]
  },
  {
   "cell_type": "code",
   "execution_count": 3,
   "metadata": {},
   "outputs": [
    {
     "name": "stdout",
     "output_type": "stream",
     "text": [
      "enter your name Hitesh\n",
      "H\n"
     ]
    }
   ],
   "source": [
    "# Anything that can be enclosed between single or double quotation marks is considered a string\n",
    "# string is a sequence or array of textual data\n",
    "\n",
    "name = \"Hitesh\"\n",
    "print(\"enter your name\", name)\n",
    "print(name[0]) # first character of string"
   ]
  },
  {
   "cell_type": "markdown",
   "metadata": {},
   "source": [
    "### 6. If Else Condition Statement"
   ]
  },
  {
   "cell_type": "code",
   "execution_count": 8,
   "metadata": {},
   "outputs": [
    {
     "name": "stdout",
     "output_type": "stream",
     "text": [
      " number is greater\n"
     ]
    }
   ],
   "source": [
    "# statement use to execute code based on conditions\n",
    "a=18\n",
    "# a > 20 :- a greater than 20\n",
    "# a < 20 :- a less than 20\n",
    "# a <= 20 :- a less than or equals to 20\n",
    "# a == 20 :- if a equals to 20\n",
    "# a != 20 :- a not equal to 20\n",
    "if(a == 18):     # if a is equal to 18\n",
    "    print(\" number is greater\")\n",
    "\n",
    "elif(a <= 15):   # if a is below or equals to 15\n",
    "    print(\" number is below 15\")\n",
    "    \n",
    "else:            # if non of the above condition are true\n",
    "    print(\"number is Smaller\")"
   ]
  },
  {
   "cell_type": "markdown",
   "metadata": {},
   "source": [
    "### 7. For Loop"
   ]
  },
  {
   "cell_type": "code",
   "execution_count": 9,
   "metadata": {},
   "outputs": [
    {
     "name": "stdout",
     "output_type": "stream",
     "text": [
      "H\n",
      "i\n",
      "t\n",
      "e\n",
      "s\n",
      "h\n"
     ]
    }
   ],
   "source": [
    "# for loop is a loop that execute for a specific number of iterations\n",
    "# good for repetitive work\n",
    "name = 'Hitesh'\n",
    "\n",
    "for i in name:    # i refer each item present in name\n",
    "    print(i)"
   ]
  },
  {
   "cell_type": "code",
   "execution_count": 10,
   "metadata": {},
   "outputs": [
    {
     "name": "stdout",
     "output_type": "stream",
     "text": [
      "Red\n",
      "green\n",
      "blue\n",
      "yellow\n"
     ]
    }
   ],
   "source": [
    "color = [\"Red\", \"green\", \"blue\", \"yellow\"]\n",
    "\n",
    "for i in color:\n",
    "    print(i)"
   ]
  },
  {
   "cell_type": "code",
   "execution_count": 11,
   "metadata": {},
   "outputs": [
    {
     "name": "stdout",
     "output_type": "stream",
     "text": [
      "5\n",
      "6\n",
      "7\n",
      "8\n",
      "9\n",
      "10\n",
      "11\n",
      "12\n",
      "13\n",
      "14\n"
     ]
    }
   ],
   "source": [
    "for i in range(10):\n",
    "    print(i + 5)"
   ]
  },
  {
   "cell_type": "code",
   "execution_count": 12,
   "metadata": {},
   "outputs": [
    {
     "name": "stdout",
     "output_type": "stream",
     "text": [
      "0\n",
      "2\n",
      "4\n",
      "6\n",
      "8\n",
      "10\n"
     ]
    }
   ],
   "source": [
    "# creates a range (start, end, steps)\n",
    "for i in range(0, 11, 2): \n",
    "    print(i)"
   ]
  },
  {
   "cell_type": "markdown",
   "metadata": {},
   "source": [
    "### 8. Break and continue"
   ]
  },
  {
   "cell_type": "code",
   "execution_count": 13,
   "metadata": {},
   "outputs": [
    {
     "name": "stdout",
     "output_type": "stream",
     "text": [
      "5 *  0  = 0\n",
      "5 *  1  = 5\n",
      "5 *  2  = 10\n",
      "5 *  3  = 15\n",
      "5 *  4  = 20\n",
      "5 *  5  = 25\n",
      "5 *  6  = 30\n",
      "5 *  7  = 35\n",
      "5 *  8  = 40\n",
      "5 *  9  = 45\n"
     ]
    }
   ],
   "source": [
    "# break is to stop the loop or stop the whole iteration \n",
    "for i in range(15):\n",
    "    if (i == 10):\n",
    "        break             # loop break when i equals to 10\n",
    "    print(\"5 * \" , i , \" =\", 5 *i)\n",
    "    "
   ]
  },
  {
   "cell_type": "code",
   "execution_count": 40,
   "metadata": {},
   "outputs": [
    {
     "name": "stdout",
     "output_type": "stream",
     "text": [
      "5 *  0  = 0\n",
      "5 *  1  = 5\n",
      "5 *  2  = 10\n",
      "5 *  3  = 15\n",
      "5 *  4  = 20\n",
      "5 *  5  = 25\n",
      "5 *  6  = 30\n",
      "5 *  7  = 35\n",
      "5 *  8  = 40\n",
      "5 *  9  = 45\n",
      "5 *  11  = 55\n",
      "5 *  12  = 60\n",
      "5 *  13  = 65\n",
      "5 *  14  = 70\n"
     ]
    }
   ],
   "source": [
    "# continue will not stop the whole iteration, it will just skip the iteration\n",
    "for i in range(15):\n",
    "    if (i == 10):\n",
    "        continue\n",
    "    print(\"5 * \" , i , \" =\", 5 *i)"
   ]
  },
  {
   "cell_type": "markdown",
   "metadata": {},
   "source": [
    "### 9. Function and argument"
   ]
  },
  {
   "cell_type": "code",
   "execution_count": 15,
   "metadata": {},
   "outputs": [
    {
     "name": "stdout",
     "output_type": "stream",
     "text": [
      "Average is : 7.5\n"
     ]
    }
   ],
   "source": [
    "def average(a,b):             # function function_name\n",
    "    print(\"Average is :\", (a+b)/2)\n",
    "\n",
    "average(5,10)  # 5 will be assigned to a , 10 will be assigned to b in the function"
   ]
  },
  {
   "cell_type": "code",
   "execution_count": 14,
   "metadata": {},
   "outputs": [
    {
     "name": "stdout",
     "output_type": "stream",
     "text": [
      "<class 'tuple'>\n",
      "Average is : 1.5\n"
     ]
    }
   ],
   "source": [
    "def average_tuple(*number):  # this will create a tuple\n",
    "    print(type(number))\n",
    "    sum = 0\n",
    "    for i in number:\n",
    "        sum = sum + i\n",
    "    print(\"Average is :\", sum / len(number))\n",
    "    \n",
    "average_tuple(1,2)"
   ]
  },
  {
   "cell_type": "code",
   "execution_count": 16,
   "metadata": {},
   "outputs": [
    {
     "name": "stdout",
     "output_type": "stream",
     "text": [
      "<class 'dict'>\n",
      "hello,  Hitesh Rajesh Sharma\n"
     ]
    }
   ],
   "source": [
    "def name(**name):  # this will create a dictionary\n",
    "    print(type(name))\n",
    "    print(\"hello, \", name[\"fname\"],name[\"mname\"], name[\"lname\"])\n",
    "    \n",
    "    \n",
    "name(mname = \"Rajesh\", lname = \"Sharma\", fname = \"Hitesh\")"
   ]
  },
  {
   "cell_type": "code",
   "execution_count": 17,
   "metadata": {},
   "outputs": [
    {
     "name": "stdout",
     "output_type": "stream",
     "text": [
      "<class 'tuple'>\n",
      "10.0\n"
     ]
    }
   ],
   "source": [
    "def average_tuple1(*number):  # this will create a tuple\n",
    "    print(type(number))       # type of variable\n",
    "    sum = 0\n",
    "    for i in number:\n",
    "        sum = sum + i\n",
    "    return sum / len(number)  # after computing this function will return the value\n",
    "\n",
    "c = average_tuple1(5,10,20,5)\n",
    "print(c)"
   ]
  },
  {
   "cell_type": "markdown",
   "metadata": {},
   "source": [
    "### 10. List"
   ]
  },
  {
   "cell_type": "markdown",
   "metadata": {},
   "source": [
    "list is mutable , can be changed\n",
    "list can store different data types in them like int with string and many more \n"
   ]
  },
  {
   "cell_type": "code",
   "execution_count": 39,
   "metadata": {},
   "outputs": [
    {
     "data": {
      "text/plain": [
       "[1, 3, 5]"
      ]
     },
     "execution_count": 39,
     "metadata": {},
     "output_type": "execute_result"
    }
   ],
   "source": [
    "li = [1, 3, 5]\n",
    "type(li)\n",
    "li"
   ]
  },
  {
   "cell_type": "code",
   "execution_count": 40,
   "metadata": {},
   "outputs": [
    {
     "name": "stdout",
     "output_type": "stream",
     "text": [
      "1\n"
     ]
    }
   ],
   "source": [
    "print(li[0])  # 0 index element in list"
   ]
  },
  {
   "cell_type": "code",
   "execution_count": 41,
   "metadata": {},
   "outputs": [
    {
     "data": {
      "text/plain": [
       "'HItesh'"
      ]
     },
     "execution_count": 41,
     "metadata": {},
     "output_type": "execute_result"
    }
   ],
   "source": [
    "li1 = [5 ,50.6, \"HItesh\"] # can store multiple data types together\n",
    "li1[2]"
   ]
  },
  {
   "cell_type": "code",
   "execution_count": 42,
   "metadata": {},
   "outputs": [
    {
     "name": "stdout",
     "output_type": "stream",
     "text": [
      "Yes\n"
     ]
    }
   ],
   "source": [
    "if 1 in li:    # to check if a element is present in list\n",
    "    print(\"Yes\")\n",
    "else:\n",
    "    print(\"No\")"
   ]
  },
  {
   "cell_type": "code",
   "execution_count": 43,
   "metadata": {},
   "outputs": [
    {
     "name": "stdout",
     "output_type": "stream",
     "text": [
      "yes\n"
     ]
    }
   ],
   "source": [
    "if \"Hit\" in \"Hitesh\": # similarly for string we can check \n",
    "    print(\"yes\")\n",
    "else:\n",
    "    print(\"no\")"
   ]
  },
  {
   "cell_type": "code",
   "execution_count": 44,
   "metadata": {},
   "outputs": [
    {
     "name": "stdout",
     "output_type": "stream",
     "text": [
      "[1, 2, 3]\n",
      "[3, 4, 5]\n",
      "[2, 4, 6, 8]\n"
     ]
    }
   ],
   "source": [
    "list1 = [1,2,3,4,5,6,7,8,9]\n",
    "\n",
    "print(list1[:3]) # from start to 3-1 index = 0,1,2\n",
    "print(list1[2:5]) # from 2 index to 5-1 index = 2,3,4\n",
    "\n",
    "print(list1[1:8:2]) # start from 1st index upto 8th index but jump by 2 indexes, knows as jump index "
   ]
  },
  {
   "cell_type": "code",
   "execution_count": 45,
   "metadata": {},
   "outputs": [
    {
     "name": "stdout",
     "output_type": "stream",
     "text": [
      "[0, 1, 2, 3, 4, 5, 6, 7, 8, 9]\n",
      "[0, 2, 4, 6, 8, 10, 12, 14, 16, 18]\n"
     ]
    }
   ],
   "source": [
    "# list comprehension :- on the way generate a list \n",
    "lst = [i for i in range(10)] # values from 0 to 9 in lst \n",
    "print(lst)\n",
    "\n",
    "lst1 = [i for i in range(20) if i%2==0] # can give a condition in list comprehension , number from 0 to 20, if divisible by 2 then only they can be element of list\n",
    "print(lst1)"
   ]
  },
  {
   "cell_type": "markdown",
   "metadata": {},
   "source": [
    "List methods"
   ]
  },
  {
   "cell_type": "markdown",
   "metadata": {},
   "source": [
    "Append"
   ]
  },
  {
   "cell_type": "code",
   "execution_count": 25,
   "metadata": {},
   "outputs": [
    {
     "name": "stdout",
     "output_type": "stream",
     "text": [
      "[1, 2, 3, 4]\n",
      "[1, 2, 3, 4, 9]\n"
     ]
    }
   ],
   "source": [
    "# append () :-  to add elements in a list \n",
    "list = [1,2,3,4]\n",
    "print(list)\n",
    "\n",
    "list.append(9) # using append we can add a element at the end of list\n",
    "print(list)"
   ]
  },
  {
   "cell_type": "markdown",
   "metadata": {},
   "source": [
    "Sort"
   ]
  },
  {
   "cell_type": "code",
   "execution_count": 28,
   "metadata": {},
   "outputs": [
    {
     "name": "stdout",
     "output_type": "stream",
     "text": [
      "[11, 5, 4, 0, 3, 44]\n",
      "[0, 3, 4, 5, 11, 44]\n",
      "[44, 11, 5, 4, 3, 0]\n"
     ]
    }
   ],
   "source": [
    "# sort() :- to sort the list\n",
    "list0 = [11,5,4,0,3,44]\n",
    "print(list0)\n",
    "\n",
    "list0.sort() # sort the list , ascending order\n",
    "print(list0)\n",
    "\n",
    "list0.sort(reverse=True) # sort the list in descending order \n",
    "print(list0)"
   ]
  },
  {
   "cell_type": "markdown",
   "metadata": {},
   "source": [
    "Count"
   ]
  },
  {
   "cell_type": "code",
   "execution_count": 31,
   "metadata": {},
   "outputs": [
    {
     "name": "stdout",
     "output_type": "stream",
     "text": [
      "[11, 5, 4, 0, 3, 44]\n",
      "1\n"
     ]
    }
   ],
   "source": [
    "# count() :- to count how many times a element is present in list\n",
    "\n",
    "list0 = [11,5,4,0,3,44]\n",
    "print(list0)\n",
    "\n",
    "print(list0.count(4)) # count how many times 4 is present"
   ]
  },
  {
   "cell_type": "markdown",
   "metadata": {},
   "source": [
    "Copy"
   ]
  },
  {
   "cell_type": "code",
   "execution_count": 32,
   "metadata": {},
   "outputs": [
    {
     "name": "stdout",
     "output_type": "stream",
     "text": [
      "[11, 5, 4, 0, 3, 44]\n",
      "[11, 5, 4, 0, 3, 44]\n"
     ]
    }
   ],
   "source": [
    "# copy() :-  to copy a list to another list\n",
    "# if direct copy using = the original list will also be changed\n",
    "\n",
    "list0 = [11,5,4,0,3,44]\n",
    "print(list0)\n",
    "\n",
    "list1 = list0.copy()\n",
    "print(list1)"
   ]
  },
  {
   "cell_type": "markdown",
   "metadata": {},
   "source": [
    "Insert"
   ]
  },
  {
   "cell_type": "code",
   "execution_count": 33,
   "metadata": {},
   "outputs": [
    {
     "name": "stdout",
     "output_type": "stream",
     "text": [
      "[11, 5, 4, 0, 3, 44]\n",
      "[11, 5, 100, 4, 0, 3, 44]\n"
     ]
    }
   ],
   "source": [
    "# insert :- to inset a element at specific index \n",
    "\n",
    "list0 = [11,5,4,0,3,44]\n",
    "print(list0)\n",
    "\n",
    "list0.insert(2, 100) # insert 100 at index 2\n",
    "print(list0)"
   ]
  },
  {
   "cell_type": "markdown",
   "metadata": {},
   "source": [
    "Extend"
   ]
  },
  {
   "cell_type": "code",
   "execution_count": 35,
   "metadata": {},
   "outputs": [
    {
     "name": "stdout",
     "output_type": "stream",
     "text": [
      "[11, 5, 4, 0, 3, 44]\n",
      "[11, 5, 4, 0, 3, 44, 100, 200, 300]\n"
     ]
    }
   ],
   "source": [
    "# extend() :-add the content of a list at the end of another list\n",
    "\n",
    "list0 = [11,5,4,0,3,44]\n",
    "print(list0)\n",
    "\n",
    "list1 = [100, 200, 300]\n",
    "list0.extend(list1) # elements of list1 are added at the end of list0\n",
    "print(list0)"
   ]
  },
  {
   "cell_type": "markdown",
   "metadata": {},
   "source": [
    "Cocatinate"
   ]
  },
  {
   "cell_type": "code",
   "execution_count": 38,
   "metadata": {},
   "outputs": [
    {
     "name": "stdout",
     "output_type": "stream",
     "text": [
      "[11, 5, 4, 0, 3, 44]\n",
      "[11, 5, 4, 0, 3, 44, 100, 200, 300]\n"
     ]
    }
   ],
   "source": [
    "# concatenate list :- to concat two list\n",
    "list0 = [11,5,4,0,3,44]\n",
    "print(list0)\n",
    "\n",
    "list1 = [100, 200, 300]\n",
    "\n",
    "list2 = list0 + list1  # concatenating list0 and list1 into list2\n",
    "print(list2)"
   ]
  },
  {
   "cell_type": "markdown",
   "metadata": {},
   "source": [
    "### 12. Dictionary"
   ]
  },
  {
   "cell_type": "markdown",
   "metadata": {},
   "source": [
    "Dictionary :- elements are stores in key : value pair\n",
    "{ }\n",
    "Dictionary are ordered"
   ]
  },
  {
   "cell_type": "code",
   "execution_count": 4,
   "metadata": {},
   "outputs": [
    {
     "name": "stdout",
     "output_type": "stream",
     "text": [
      "{'name': 'Hitesh', 'age': 21, 'Pincode': 6994}\n"
     ]
    }
   ],
   "source": [
    "dict = {\n",
    "    \"name\" : \"Hitesh\",\n",
    "    \"age\" : 21,\n",
    "     \"Pincode\" : 6994 \n",
    "}\n",
    "\n",
    "print(dict)"
   ]
  },
  {
   "cell_type": "code",
   "execution_count": 5,
   "metadata": {},
   "outputs": [
    {
     "name": "stdout",
     "output_type": "stream",
     "text": [
      "Hitesh\n"
     ]
    }
   ],
   "source": [
    "print(dict[\"name\"]) # search element by its key , value will be returned "
   ]
  },
  {
   "cell_type": "code",
   "execution_count": null,
   "metadata": {},
   "outputs": [],
   "source": [
    "print(dict[\"name2\"])  # if key is not present then it will show error\n",
    "\n",
    "print(dict.get('name2')) # if key is not present then it will return none"
   ]
  },
  {
   "cell_type": "code",
   "execution_count": 7,
   "metadata": {},
   "outputs": [
    {
     "name": "stdout",
     "output_type": "stream",
     "text": [
      "dict_keys(['name', 'age', 'Pincode'])\n",
      "dict_values(['Hitesh', 21, 6994])\n"
     ]
    }
   ],
   "source": [
    "print(dict.keys()) # return all keys\n",
    "print(dict.values()) # return all values"
   ]
  },
  {
   "cell_type": "code",
   "execution_count": 8,
   "metadata": {},
   "outputs": [
    {
     "name": "stdout",
     "output_type": "stream",
     "text": [
      "name = Hitesh\n",
      "age = 21\n",
      "Pincode = 6994\n"
     ]
    }
   ],
   "source": [
    "for key in dict.keys():    # keys in dictionary\n",
    "    print(f\"{key} = {dict[key]}\") # key , dict[key] = value"
   ]
  },
  {
   "cell_type": "code",
   "execution_count": 9,
   "metadata": {},
   "outputs": [
    {
     "name": "stdout",
     "output_type": "stream",
     "text": [
      "dict_items([('name', 'Hitesh'), ('age', 21), ('Pincode', 6994)])\n"
     ]
    }
   ],
   "source": [
    "print(dict.items()) # return all items"
   ]
  },
  {
   "cell_type": "markdown",
   "metadata": {},
   "source": [
    "dictionary methods"
   ]
  },
  {
   "cell_type": "code",
   "execution_count": 10,
   "metadata": {},
   "outputs": [],
   "source": [
    "dict1 = {\n",
    "    \"name\" : \"Hitesh\",\n",
    "    \"age\" : 21,\n",
    "    \"address\" : \"Kolhapur\"\n",
    "}\n",
    "dict2 = {\n",
    "    \"name1\" : \"Rishikesh\",\n",
    "    \"age2\" : 22,\n",
    "    \"address2\" : \"Satara\"\n",
    "}"
   ]
  },
  {
   "cell_type": "code",
   "execution_count": 11,
   "metadata": {},
   "outputs": [
    {
     "data": {
      "text/plain": [
       "{'name': 'Hitesh',\n",
       " 'age': 21,\n",
       " 'address': 'Kolhapur',\n",
       " 'name1': 'Rishikesh',\n",
       " 'age2': 22,\n",
       " 'address2': 'Satara'}"
      ]
     },
     "execution_count": 11,
     "metadata": {},
     "output_type": "execute_result"
    }
   ],
   "source": [
    "dict1.update(dict2) # using update we can add elements of one dictionary to another\n",
    "dict1 "
   ]
  },
  {
   "cell_type": "code",
   "execution_count": 65,
   "metadata": {},
   "outputs": [
    {
     "name": "stdout",
     "output_type": "stream",
     "text": [
      "{}\n"
     ]
    }
   ],
   "source": [
    "dict2.clear() # clear the dictionary\n",
    "print(dict2)"
   ]
  },
  {
   "cell_type": "code",
   "execution_count": 66,
   "metadata": {},
   "outputs": [
    {
     "name": "stdout",
     "output_type": "stream",
     "text": [
      "{}\n"
     ]
    }
   ],
   "source": [
    "dict3 = {} # creating a empty dictionary\n",
    "print(dict3)"
   ]
  },
  {
   "cell_type": "code",
   "execution_count": 67,
   "metadata": {},
   "outputs": [
    {
     "name": "stdout",
     "output_type": "stream",
     "text": [
      "{'age': 21, 'address': 'Kolhapur', 'name1': 'Rishikesh', 'age2': 22, 'address2': 'Satara'}\n"
     ]
    }
   ],
   "source": [
    "dict1.pop(\"name\") # using pop give the key and it will be removed from the dictionary\n",
    "print(dict1)"
   ]
  },
  {
   "cell_type": "code",
   "execution_count": 68,
   "metadata": {},
   "outputs": [
    {
     "name": "stdout",
     "output_type": "stream",
     "text": [
      "{'age': 21, 'address': 'Kolhapur', 'name1': 'Rishikesh', 'age2': 22}\n"
     ]
    }
   ],
   "source": [
    "dict1.popitem() #pop item will remove last element from the dictionary\n",
    "print(dict1)"
   ]
  },
  {
   "cell_type": "code",
   "execution_count": null,
   "metadata": {},
   "outputs": [],
   "source": [
    "del dict2[\"name1\"] # delete the specific element, if no key is given whole dictionary will be removed\n",
    "print(dict2)"
   ]
  },
  {
   "cell_type": "markdown",
   "metadata": {},
   "source": [
    "### 13. Exception handling"
   ]
  },
  {
   "cell_type": "markdown",
   "metadata": {},
   "source": [
    "exception handling is the process of responding to unwanted or unexpected events when a program runs\n",
    "\n",
    "this is used when you get an error message, instead what message will be printed"
   ]
  },
  {
   "cell_type": "code",
   "execution_count": 70,
   "metadata": {},
   "outputs": [
    {
     "name": "stdout",
     "output_type": "stream",
     "text": [
      "5 X 1 = 5\n",
      "5 X 2 = 10\n",
      "5 X 3 = 15\n",
      "5 X 4 = 20\n",
      "5 X 5 = 25\n",
      "5 X 6 = 30\n",
      "5 X 7 = 35\n",
      "5 X 8 = 40\n",
      "5 X 9 = 45\n",
      "5 X 10 = 50\n"
     ]
    }
   ],
   "source": [
    "a = 5\n",
    "for i in range(1,11):\n",
    "    print(f\"{int(a)} X {i} = {int(a) * i}\")"
   ]
  },
  {
   "cell_type": "code",
   "execution_count": 71,
   "metadata": {},
   "outputs": [
    {
     "ename": "ValueError",
     "evalue": "invalid literal for int() with base 10: 'Hitesh'",
     "output_type": "error",
     "traceback": [
      "\u001b[1;31m---------------------------------------------------------------------------\u001b[0m",
      "\u001b[1;31mValueError\u001b[0m                                Traceback (most recent call last)",
      "Cell \u001b[1;32mIn[71], line 5\u001b[0m\n\u001b[0;32m      2\u001b[0m b \u001b[38;5;241m=\u001b[39m\u001b[38;5;124m\"\u001b[39m\u001b[38;5;124mHitesh\u001b[39m\u001b[38;5;124m\"\u001b[39m\n\u001b[0;32m      4\u001b[0m \u001b[38;5;28;01mfor\u001b[39;00m i \u001b[38;5;129;01min\u001b[39;00m \u001b[38;5;28mrange\u001b[39m(\u001b[38;5;241m1\u001b[39m,\u001b[38;5;241m11\u001b[39m):\n\u001b[1;32m----> 5\u001b[0m     \u001b[38;5;28mprint\u001b[39m(\u001b[38;5;124mf\u001b[39m\u001b[38;5;124m\"\u001b[39m\u001b[38;5;132;01m{\u001b[39;00m\u001b[38;5;28;43mint\u001b[39;49m\u001b[43m(\u001b[49m\u001b[43mb\u001b[49m\u001b[43m)\u001b[49m\u001b[38;5;132;01m}\u001b[39;00m\u001b[38;5;124m X \u001b[39m\u001b[38;5;132;01m{\u001b[39;00mi\u001b[38;5;132;01m}\u001b[39;00m\u001b[38;5;124m = \u001b[39m\u001b[38;5;132;01m{\u001b[39;00m\u001b[38;5;28mint\u001b[39m(b)\u001b[38;5;250m \u001b[39m\u001b[38;5;241m*\u001b[39m\u001b[38;5;250m \u001b[39mi\u001b[38;5;132;01m}\u001b[39;00m\u001b[38;5;124m\"\u001b[39m)\n",
      "\u001b[1;31mValueError\u001b[0m: invalid literal for int() with base 10: 'Hitesh'"
     ]
    }
   ],
   "source": [
    "# If we have an integer value it will give an Value error \n",
    "b =\"Hitesh\"\n",
    "for i in range(1,11):\n",
    "    print(f\"{int(b)} X {i} = {int(b) * i}\")"
   ]
  },
  {
   "cell_type": "code",
   "execution_count": 72,
   "metadata": {},
   "outputs": [
    {
     "name": "stdout",
     "output_type": "stream",
     "text": [
      "Enter a integer number instead of a string\n"
     ]
    }
   ],
   "source": [
    "# we use try and except here to handle this error\n",
    "# try will run the program normally\n",
    "# if any error occurs, except will catch the error and print your custom message\n",
    "\n",
    "# it will not show any error messages, it will print the custom message you have provided \n",
    "b =\"Hitesh\"\n",
    "try:\n",
    "    for i in range(1,11):\n",
    "        print(f\"{int(b)} X {i} = {int(b) * i}\")\n",
    "except:\n",
    "    print(\"Enter a integer number instead of a string\")"
   ]
  },
  {
   "cell_type": "code",
   "execution_count": 73,
   "metadata": {},
   "outputs": [],
   "source": [
    "# In python there are different errors like valueerror, keyboard error, indexerror, etc for each type of error you can provide custom message \n",
    "try:\n",
    "    num = int(input(\"Enter the number\"))\n",
    "    a = [6,3]\n",
    "except ValueError:\n",
    "    print(\"entered number is not a valid integer\")\n",
    "    \n",
    "except IndexError:\n",
    "    print(\"entered index is not a valid integer\")\n",
    "except:\n",
    "    print(\"None of the above error\")"
   ]
  },
  {
   "cell_type": "markdown",
   "metadata": {},
   "source": [
    "### 14. Virtual Environment in python"
   ]
  },
  {
   "cell_type": "markdown",
   "metadata": {},
   "source": [
    "Virtual environment is a tool which creates a isolated environment which is different from the global environment that is installed in computer \n",
    "\n",
    "In virtual environment you can have your own python interpreter and can have different python versions , different versions of python libraries and frame works\n",
    "\n",
    "In computer you have pandas == 1.20\n",
    "\n",
    "but in virtual environment you can have pandas == 1.10\n",
    "\n",
    "both of them are fully isolated from each other\n",
    "\n",
    "________________________________________________________________"
   ]
  },
  {
   "cell_type": "markdown",
   "metadata": {},
   "source": [
    "\n",
    "1.To create a virtual environment, in cmd, terminal \n",
    "\n",
    "python -m venv 'filename'\n",
    "\n",
    "2.Activate virtual environment:- use python interpreter present in virtual environment\n",
    "\n",
    "filename/Scripts/Activate\n",
    "\n",
    "3.Deactivate virtual environment:- stop using python interpreter in virtual environment\n",
    "\n",
    "deactivate\n",
    "\n",
    "4.install python packages\n",
    "\n",
    "pip install -r requirements.txt # list of required packages\n",
    "\n",
    "or\n",
    "\n",
    "pip install 'package name'\n",
    "\n",
    "In virtual environment you have pip and setuptools preinstalled\n",
    "\n",
    "Rest all the packages you have to install from basic numpy also\n",
    "\n",
    "to open python interpreter in virtual environment\n",
    "\n",
    "1.activate virtual environment\n",
    "\n",
    "2.python\n",
    "\n",
    "3.import package\n",
    "\n",
    "4.print(package.__ version __)\n"
   ]
  },
  {
   "cell_type": "markdown",
   "metadata": {},
   "source": [
    "### 15 if __ name __ == \"__ main __\" in Python\n"
   ]
  },
  {
   "cell_type": "markdown",
   "metadata": {},
   "source": [
    "if __ name __ == \"__ main __\" :- \n",
    "\n",
    "1.Hitesh.py is a file containing welcome as a function\n",
    "\n",
    "2.we can use the functions or content of the Hitesh.py in any other file by using import \n",
    "\n",
    "Import Hitesh\n",
    "\n",
    "its function can be used as well "
   ]
  },
  {
   "cell_type": "code",
   "execution_count": 4,
   "metadata": {},
   "outputs": [
    {
     "name": "stdout",
     "output_type": "stream",
     "text": [
      "Welcome to my code\n"
     ]
    }
   ],
   "source": [
    "# we import HItesh file wiith all its functions\n",
    "# the function is repeated 2 times which is not good \n",
    "\n",
    "import Hitesh\n",
    "\n",
    "Hitesh.welcome()"
   ]
  },
  {
   "cell_type": "code",
   "execution_count": 1,
   "metadata": {},
   "outputs": [],
   "source": [
    "# to solve that problem we use \n",
    "# if __name__ == \"__main__\"\n",
    "#    function()\n",
    "# do this in other file where function is there  and not in main file\n",
    "# it will run only once "
   ]
  },
  {
   "cell_type": "markdown",
   "metadata": {},
   "source": [
    "### 16. Lambda functions"
   ]
  },
  {
   "cell_type": "code",
   "execution_count": 5,
   "metadata": {},
   "outputs": [
    {
     "name": "stdout",
     "output_type": "stream",
     "text": [
      "4\n"
     ]
    }
   ],
   "source": [
    "def double(x):\n",
    "    return x*2\n",
    "\n",
    "print(double(2))"
   ]
  },
  {
   "cell_type": "code",
   "execution_count": 7,
   "metadata": {},
   "outputs": [
    {
     "name": "stdout",
     "output_type": "stream",
     "text": [
      "27\n"
     ]
    }
   ],
   "source": [
    "# above code can be written using lambda function\n",
    "double1 = lambda x: x*2\n",
    "\n",
    "# print(double1(5))\n",
    "\n",
    "cube = lambda x: x*x*x\n",
    "print(cube(3))"
   ]
  },
  {
   "cell_type": "code",
   "execution_count": 8,
   "metadata": {},
   "outputs": [
    {
     "name": "stdout",
     "output_type": "stream",
     "text": [
      "7.5\n"
     ]
    }
   ],
   "source": [
    "# lambda function can accept multiple arguments\n",
    "average = lambda x,y: (x + y)/2\n",
    "print(average(5,10))"
   ]
  },
  {
   "cell_type": "code",
   "execution_count": 9,
   "metadata": {},
   "outputs": [
    {
     "name": "stdout",
     "output_type": "stream",
     "text": [
      "15.0\n"
     ]
    }
   ],
   "source": [
    "average1 = lambda x,y,z: (x + y + z)/2\n",
    "print(average1(5,10,15))"
   ]
  },
  {
   "cell_type": "markdown",
   "metadata": {},
   "source": [
    "Use lambda when you want function in one line\n",
    "use lambda when you want to pass a function as argument to another function"
   ]
  },
  {
   "cell_type": "code",
   "execution_count": 14,
   "metadata": {},
   "outputs": [
    {
     "name": "stdout",
     "output_type": "stream",
     "text": [
      "14\n",
      "14\n"
     ]
    }
   ],
   "source": [
    "def apply(fx, value):\n",
    "    return 6+fx(value)\n",
    "\n",
    "cube = lambda x: x*x*x\n",
    "\n",
    "print(apply(cube, 2)) # cube is passed as argument to another function\n",
    "#or\n",
    "\n",
    "print(apply(lambda x: x*x*x,2)) #direct function as argument to another function, in this the inner function is anonymous it does not have any name like 1st one"
   ]
  },
  {
   "cell_type": "markdown",
   "metadata": {},
   "source": [
    "### 17. MAP, Filter, Reduce\n",
    "\n",
    "known as higher order functions, they accept function as argument"
   ]
  },
  {
   "cell_type": "markdown",
   "metadata": {},
   "source": [
    "1. Map :- a function which allows to apply function on each element of a sequence like list, dictionary, etc"
   ]
  },
  {
   "cell_type": "code",
   "execution_count": 16,
   "metadata": {},
   "outputs": [
    {
     "name": "stdout",
     "output_type": "stream",
     "text": [
      "[1, 8, 27, 64, 125, 216, 343, 512, 729]\n"
     ]
    }
   ],
   "source": [
    "# we have a function\n",
    "def cube(x):\n",
    "    return x*x*x\n",
    "\n",
    "l = [1,2,3,4,5,6,7,8,9]\n",
    "\n",
    "# we want to apply cube function on each element of list \n",
    "# we can do with for loop, but it is very hectic \n",
    "# instead we use map function\n",
    "\n",
    "# map(function_name, List_name)\n",
    "\n",
    "newlist = map(cube,l) # it gives a map object you can specify your own data type \n",
    "\n",
    "# map / apply cube function on each element of list and convert the map object to list data type and store it in newlist1\n",
    "newlist1 = list(map(cube, l)) \n",
    "print(newlist1)"
   ]
  },
  {
   "cell_type": "markdown",
   "metadata": {},
   "source": [
    "2. Filter :- filters a sequence of elements based on a given condition , returns elements which matches the condition\n",
    "\n",
    "return a boolean value for each element and if true then keep element \n",
    "\n",
    "filter(condition, list_name)"
   ]
  },
  {
   "cell_type": "code",
   "execution_count": 17,
   "metadata": {},
   "outputs": [
    {
     "name": "stdout",
     "output_type": "stream",
     "text": [
      "[216, 343, 512, 729]\n"
     ]
    }
   ],
   "source": [
    "def filter_function(a):\n",
    "    return a>200\n",
    "\n",
    "# it return a filter object you can convert it into any datatype you want\n",
    "\n",
    "newlist0 = list(filter(filter_function,newlist1)) \n",
    "\n",
    "# filter the list and put only elements which match the condition\n",
    "\n",
    "print(newlist0)"
   ]
  },
  {
   "cell_type": "markdown",
   "metadata": {},
   "source": [
    "3.Reduce :- applies a function to a sequence and return a single value \n",
    "\n",
    "from functools import reduce"
   ]
  },
  {
   "cell_type": "code",
   "execution_count": 12,
   "metadata": {},
   "outputs": [
    {
     "name": "stdout",
     "output_type": "stream",
     "text": [
      "45\n"
     ]
    }
   ],
   "source": [
    "# map :- apply a function to each element and return the same number of elements\n",
    "\n",
    "# reduce :- apply a function to each element and return single value\n",
    "\n",
    "from functools import reduce\n",
    "\n",
    "numbers = [1,2,3,4,5,6,7,8,9]\n",
    "\n",
    "def mysum(x,y):\n",
    "    return x + y\n",
    "\n",
    "sum = reduce(mysum, numbers) \n",
    "\n",
    "# apply mysum function to each and every element in list and return a single value\n",
    "# it applies function again and again to adjesant elements and perform the function on it \n",
    "\n",
    "# x and y , 1st element as x, 2nd element as y, add them\n",
    "# that added value stored in x , next value stored in y, add them\n",
    "# this process will repeat again and again and it will return single value\n",
    "print(sum)"
   ]
  },
  {
   "cell_type": "markdown",
   "metadata": {},
   "source": [
    "### 18. With statement\n",
    "\n",
    "with statement is used to close a python file "
   ]
  },
  {
   "cell_type": "code",
   "execution_count": 22,
   "metadata": {},
   "outputs": [
    {
     "name": "stdout",
     "output_type": "stream",
     "text": [
      "def welcome():\n",
      "    print(\"Welcome to my code\")\n",
      "\n",
      "# if function is excetuded from here then run the function\n",
      "# if this script is imported to another program then dont run the below function\n",
      "if __name__ == \"__main__\":\n",
      "    welcome()\n"
     ]
    }
   ],
   "source": [
    "# open a python file , model = read, store in f\n",
    "# perform read operation and it will be successfully closed \n",
    "# print all the components present in that file\n",
    "with open('./Hitesh.py', mode='r') as f:\n",
    "    data = f.read()\n",
    "    print(data)"
   ]
  }
 ],
 "metadata": {
  "kernelspec": {
   "display_name": "Python 3",
   "language": "python",
   "name": "python3"
  },
  "language_info": {
   "codemirror_mode": {
    "name": "ipython",
    "version": 3
   },
   "file_extension": ".py",
   "mimetype": "text/x-python",
   "name": "python",
   "nbconvert_exporter": "python",
   "pygments_lexer": "ipython3",
   "version": "3.11.0"
  }
 },
 "nbformat": 4,
 "nbformat_minor": 2
}
